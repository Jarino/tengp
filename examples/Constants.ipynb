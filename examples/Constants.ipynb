{
 "cells": [
  {
   "cell_type": "markdown",
   "metadata": {},
   "source": [
    "# Experiment of adding constant into genotype"
   ]
  },
  {
   "cell_type": "markdown",
   "metadata": {},
   "source": [
    "Very simple target function:"
   ]
  },
  {
   "cell_type": "code",
   "execution_count": 41,
   "metadata": {},
   "outputs": [],
   "source": [
    "def target_function(X):\n",
    "    return 4.55 + X\n",
    "\n",
    "import numpy as np\n",
    "\n",
    "x_train = np.array([1,2,3,4,5])\n",
    "y_train = target_function(x_train)"
   ]
  },
  {
   "cell_type": "markdown",
   "metadata": {},
   "source": [
    "# First, let's try classic CGP, with constant as an input"
   ]
  },
  {
   "cell_type": "code",
   "execution_count": 52,
   "metadata": {},
   "outputs": [
    {
     "name": "stdout",
     "output_type": "stream",
     "text": [
      "CPU times: user 15 s, sys: 15.6 ms, total: 15 s\n",
      "Wall time: 15.3 s\n"
     ]
    }
   ],
   "source": [
    "%%time\n",
    "\n",
    "x_train_c = np.c_[np.ones(len(x_train)), x_train]\n",
    "\n",
    "funset = tengp.FunctionSet()\n",
    "funset.add(np.add, 2)\n",
    "funset.add(np.subtract, 2)\n",
    "\n",
    "params = tengp.Parameters(2, 1, 1, 10, funset, real_valued=False)\n",
    "\n",
    "from sklearn.metrics import mean_squared_error\n",
    "\n",
    "res = tengp.simple_es(x_train_c, y_train, mean_squared_error, params, evaluations=100000)\n"
   ]
  },
  {
   "cell_type": "code",
   "execution_count": 49,
   "metadata": {},
   "outputs": [
    {
     "data": {
      "text/plain": [
       "Program, f:2.202499999999999"
      ]
     },
     "execution_count": 49,
     "metadata": {},
     "output_type": "execute_result"
    }
   ],
   "source": [
    "res[0]"
   ]
  },
  {
   "cell_type": "markdown",
   "metadata": {},
   "source": [
    "# Now PSO with constants in genotype"
   ]
  },
  {
   "cell_type": "code",
   "execution_count": 53,
   "metadata": {},
   "outputs": [
    {
     "name": "stdout",
     "output_type": "stream",
     "text": [
      "CPU times: user 27.4 s, sys: 46.9 ms, total: 27.5 s\n",
      "Wall time: 28.1 s\n"
     ]
    }
   ],
   "source": [
    "%%time\n",
    "\n",
    "def constant(x, y):\n",
    "    return x\n",
    "\n",
    "\n",
    "cfunset = tengp.FunctionSet()\n",
    "cfunset.add(constant, 2)\n",
    "cfunset.add(np.add, 2)\n",
    "cfunset.add(np.subtract, 2)\n",
    "\n",
    "pso_params = tengp.Parameters(1, 1, 1, 10, cfunset, real_valued=True, constants=10)\n",
    "\n",
    "import pygmo as pg\n",
    "\n",
    "class cost_function:\n",
    "    def __init__(self, X, Y, params, bounds):\n",
    "        self.params = params\n",
    "        self.bounds = bounds\n",
    "        self.X = X\n",
    "        self.Y = Y\n",
    "    \n",
    "    def fitness(self, x):      \n",
    "        individual = tengp.individual.NPIndividual(list(x), self.bounds, self.params)\n",
    "        \n",
    "        pred = individual.transform(self.X)\n",
    "        \n",
    "        try:\n",
    "            return [mean_squared_error(pred, self.Y)]\n",
    "        except ValueError:\n",
    "            return [10000000000]\n",
    "        \n",
    "    def get_bounds(self):\n",
    "        return self.bounds\n",
    "\n",
    "\n",
    "\n",
    "bounds = tengp.individual.IndividualBuilder(pso_params).create().bounds\n",
    "\n",
    "prob = pg.problem(cost_function(x_train.reshape(-1, 1), y_train, pso_params, bounds))\n",
    "\n",
    "algo = pg.algorithm(pg.pso(gen=2000))\n",
    "\n",
    "algo.set_verbosity(1)\n",
    "\n",
    "pop = pg.population(prob, 50)\n",
    "\n",
    "pop = algo.evolve(pop)"
   ]
  },
  {
   "cell_type": "code",
   "execution_count": 51,
   "metadata": {},
   "outputs": [
    {
     "name": "stdout",
     "output_type": "stream",
     "text": [
      "0.0\n"
     ]
    }
   ],
   "source": [
    "print(pop.champion_f[0])"
   ]
  },
  {
   "cell_type": "code",
   "execution_count": null,
   "metadata": {},
   "outputs": [],
   "source": []
  }
 ],
 "metadata": {
  "kernelspec": {
   "display_name": "Python 3",
   "language": "python",
   "name": "python3"
  },
  "language_info": {
   "codemirror_mode": {
    "name": "ipython",
    "version": 3
   },
   "file_extension": ".py",
   "mimetype": "text/x-python",
   "name": "python",
   "nbconvert_exporter": "python",
   "pygments_lexer": "ipython3",
   "version": "3.6.4"
  }
 },
 "nbformat": 4,
 "nbformat_minor": 2
}
